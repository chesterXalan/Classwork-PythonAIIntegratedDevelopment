{
 "cells": [
  {
   "cell_type": "code",
   "execution_count": 1,
   "id": "ee1bdcce-9872-4f1c-a897-ed5b599b85c8",
   "metadata": {},
   "outputs": [
    {
     "name": "stderr",
     "output_type": "stream",
     "text": [
      "Building prefix dict from the default dictionary ...\n",
      "Loading model from cache /tmp/jieba.cache\n",
      "Loading model cost 0.470 seconds.\n",
      "Prefix dict has been built successfully.\n"
     ]
    },
    {
     "name": "stdout",
     "output_type": "stream",
     "text": [
      "台北市,臺,北市,有,一輛,大清,帝國,時代,的,火車頭\n",
      "台灣,臺,灣是,相同,詞,彙,嗎,?\n",
      "石室,詩士,施氏,，,嗜獅,，,誓食,十獅,。\n",
      "石室,詩士,施氏,,,嗜獅,,,誓食,十獅,。\n",
      "石室,詩士,施氏, ,嗜獅, ,誓食,十獅,。\n",
      "石室,詩士,施氏,嗜,獅誓,食十獅,。\n"
     ]
    }
   ],
   "source": [
    "import jieba\n",
    "\n",
    "text1 = \"台北市臺北市有一輛大清帝國時代的火車頭\"\n",
    "text2 = \"台灣臺灣是相同詞彙嗎?\"\n",
    "text3 = \"石室詩士施氏，嗜獅，誓食十獅。\"\n",
    "text4 = \"石室詩士施氏,嗜獅,誓食十獅。\"\n",
    "text5 = \"石室詩士施氏 嗜獅 誓食十獅。\"\n",
    "text6 = \"石室詩士施氏嗜獅誓食十獅。\"\n",
    "jieba1 = jieba.cut(text1)\n",
    "jieba2 = jieba.cut(text2)\n",
    "jieba3 = jieba.cut(text3)\n",
    "jieba4 = jieba.cut(text4)\n",
    "jieba5 = jieba.cut(text5)\n",
    "jieba6 = jieba.cut(text6)\n",
    "print(\",\".join(jieba1))\n",
    "print(\",\".join(jieba2))\n",
    "print(\",\".join(jieba3))\n",
    "print(\",\".join(jieba4))\n",
    "print(\",\".join(jieba5))\n",
    "print(\",\".join(jieba6))\n"
   ]
  },
  {
   "cell_type": "code",
   "execution_count": 2,
   "id": "909f3c3c-7dff-4348-aadc-dce425718634",
   "metadata": {},
   "outputs": [
    {
     "name": "stdout",
     "output_type": "stream",
     "text": [
      "加入自訂詞彙\n",
      "['台北市', '臺北市', '有', '一輛', '大清', '帝國', '時代', '的', '火車頭']\n",
      "['台灣', '臺灣', '是', '相同', '詞彙', '嗎', '?']\n",
      "['石室', '詩士', '施氏', '，', '嗜獅', '，', '誓食十獅', '。']\n"
     ]
    }
   ],
   "source": [
    "import jieba\n",
    "\n",
    "print(\"加入自訂詞彙\")\n",
    "jieba.add_word(\"臺北市\")\n",
    "jieba.add_word(\"臺灣\")\n",
    "jieba.add_word(\"詞彙\")\n",
    "jieba.add_word(\"嗜獅\")\n",
    "jieba.add_word(\"誓食十獅\")\n",
    "text1 = \"台北市臺北市有一輛大清帝國時代的火車頭\"\n",
    "text2 = \"台灣臺灣是相同詞彙嗎?\"\n",
    "text3 = \"石室詩士施氏，嗜獅，誓食十獅。\"\n",
    "jieba1 = jieba.cut(text1)\n",
    "jieba2 = jieba.cut(text2)\n",
    "jieba3 = jieba.cut(text3)\n",
    "list4 = []\n",
    "list5 = []\n",
    "list6 = []\n",
    "for i in jieba1:\n",
    "    list4.append(i)\n",
    "for i in jieba2:\n",
    "    list5.append(i)\n",
    "for i in jieba3:\n",
    "    list6.append(i)\n",
    "print(list4)\n",
    "print(list5)\n",
    "print(list6)\n"
   ]
  },
  {
   "cell_type": "code",
   "execution_count": 3,
   "id": "d6c88d64-3393-413e-96c3-f6047fb0b0d7",
   "metadata": {},
   "outputs": [
    {
     "name": "stdout",
     "output_type": "stream",
     "text": [
      "jieba部分\n",
      "台北市,臺北市,有,一輛,大清,帝國,時代,的,火車頭\n"
     ]
    }
   ],
   "source": [
    "print(\"jieba部分\")\n",
    "str4b = \",\".join(list4)\n",
    "str5b = \",\".join(list5)\n",
    "str6b = \",\".join(list6)\n",
    "print(str4b)\n"
   ]
  },
  {
   "cell_type": "code",
   "execution_count": 4,
   "id": "59e2c9bd-ffe7-459a-848d-7e795bce8e90",
   "metadata": {},
   "outputs": [
    {
     "name": "stdout",
     "output_type": "stream",
     "text": [
      "string後續處理\n",
      "這兩個詞彙是相同的，可以用字串取代方式取代\n",
      "詞彙相同意思是A字串是B字串，所以我們用字典方式規劃\n",
      "台北市\n",
      "臺北市\n",
      "台灣\n",
      "臺灣\n",
      "台北市,臺北市,有,一輛,大清,帝國,時代,的,火車頭\n",
      "臺北市,臺北市,有,一輛,大清,帝國,時代,的,火車頭\n"
     ]
    }
   ],
   "source": [
    "print(\"string後續處理\")\n",
    "print(\"這兩個詞彙是相同的，可以用字串取代方式取代\")\n",
    "print(\"詞彙相同意思是A字串是B字串，所以我們用字典方式規劃\")\n",
    "dict1 = {\"台北市\": \"臺北市\", \"台灣\": \"臺灣\"}\n",
    "# print(dict1['台北市'])\n",
    "# str1finish=''\n",
    "for k, v in dict1.items():\n",
    "    print(k)\n",
    "    print(v)\n",
    "    if str4b.find(k) != -1:\n",
    "        str1finish = str4b.replace(k, v)\n",
    "print(str4b)\n",
    "print(str1finish)\n"
   ]
  },
  {
   "cell_type": "code",
   "execution_count": 5,
   "id": "7aa31d9f-2dd2-4b32-abca-49a6cec34a72",
   "metadata": {},
   "outputs": [
    {
     "name": "stdout",
     "output_type": "stream",
     "text": [
      "台北市,政府,宣布,「,臺北市,403,震災,列管,紅黃單,建築物,修繕,補強,補助,計畫,」,將延長\n",
      "台北市\n",
      "臺北市\n",
      "台北市,政府,宣布,「,臺北市,403,震災,列管,紅黃單,建築物,修繕,補強,補助,計畫,」,將延長\n",
      "臺北市,政府,宣布,「,臺北市,403,震災,列管,紅黃單,建築物,修繕,補強,補助,計畫,」,將延長\n"
     ]
    }
   ],
   "source": [
    "str2a = \"台北市政府宣布「臺北市403震災列管紅黃單建築物修繕補強補助計畫」將延長\"\n",
    "jieba2a = jieba.cut(str2a)\n",
    "# print(','.join(jieba2a))\n",
    "str4c = \",\".join(jieba2a)\n",
    "print(str4c)\n",
    "str1finish1 = \"\"\n",
    "dict1a = {\"台北市\": \"臺北市\"}\n",
    "for k, v in dict1a.items():\n",
    "    print(k)\n",
    "    print(v)\n",
    "    if str4c.find(k) != -1:\n",
    "        str1finish1 = str4c.replace(k, v)\n",
    "print(str4c)\n",
    "print(str1finish1)\n"
   ]
  },
  {
   "cell_type": "code",
   "execution_count": null,
   "id": "a3102350-0718-49c8-9734-43a81fb7059b",
   "metadata": {},
   "outputs": [],
   "source": []
  }
 ],
 "metadata": {
  "kernelspec": {
   "display_name": ".venv",
   "language": "python",
   "name": "python3"
  },
  "language_info": {
   "codemirror_mode": {
    "name": "ipython",
    "version": 3
   },
   "file_extension": ".py",
   "mimetype": "text/x-python",
   "name": "python",
   "nbconvert_exporter": "python",
   "pygments_lexer": "ipython3",
   "version": "3.11.11"
  }
 },
 "nbformat": 4,
 "nbformat_minor": 5
}
