{
 "cells": [
  {
   "cell_type": "code",
   "execution_count": 1,
   "metadata": {
    "colab": {
     "base_uri": "https://localhost:8080/"
    },
    "id": "DDWjgcyBCw5d",
    "outputId": "77d6579b-f6b1-47b6-bb0e-b0ef98559b8b"
   },
   "outputs": [
    {
     "name": "stderr",
     "output_type": "stream",
     "text": [
      "Building prefix dict from the default dictionary ...\n",
      "Dumping model to file cache /tmp/jieba.cache\n",
      "Loading model cost 0.399 seconds.\n",
      "Prefix dict has been built successfully.\n"
     ]
    },
    {
     "name": "stdout",
     "output_type": "stream",
     "text": [
      "與 風寒 相關的文件\n",
      "文件索引值ID  10 : 相似度 0.19899483025074005\n",
      "文件索引值ID  6 : 相似度 0.09463175386190414\n",
      "文件索引值ID  25 : 相似度 0.09389606863260269\n",
      "文件索引值ID  1 : 相似度 0.0768958255648613\n",
      "文件索引值ID  4 : 相似度 0.07608553022146225\n",
      "文件索引值ID  8 : 相似度 0.04620269313454628\n",
      "文件索引值ID  13 : 相似度 0.03385357931256294\n",
      "文件索引值ID  16 : 相似度 0.026282308623194695\n",
      "文件索引值ID  23 : 相似度 0.008231368847191334\n",
      "文件索引值ID  9 : 相似度 -0.0057740830816328526\n",
      "time elapsed: 10.47 seconds\n"
     ]
    }
   ],
   "source": [
    "import os\n",
    "import time\n",
    "\n",
    "import jieba\n",
    "\n",
    "t1 = time.time()\n",
    "\n",
    "\n",
    "def read_files(file_path):\n",
    "    texts = []\n",
    "    for file_name in os.listdir(file_path):\n",
    "        if file_name.endswith(\".txt\"):\n",
    "            with open(os.path.join(file_path, file_name), encoding=\"utf-8\") as file:\n",
    "                texts.append(file.read())\n",
    "    return texts\n",
    "\n",
    "\n",
    "def preprocess_text(text):\n",
    "    words = jieba.cut(text)\n",
    "    return \" \".join(words)\n",
    "\n",
    "\n",
    "file_path = \"./data/CM\"\n",
    "texts = read_files(file_path)\n",
    "processed_texts = [preprocess_text(text) for text in texts]\n",
    "\n",
    "from gensim.models.doc2vec import Doc2Vec, TaggedDocument\n",
    "\n",
    "tagged_data = [TaggedDocument(words, [i]) for i, words in enumerate(processed_texts)]\n",
    "model = Doc2Vec(\n",
    "    tagged_data, vector_size=100, window=5, min_count=1, workers=4, epochs=20\n",
    ")\n",
    "model.save(\"doc2vec.model\")\n",
    "model = Doc2Vec.load(\"doc2vec.model\")\n",
    "word1 = \"風寒\"  # 替換為你感興趣的詞語\n",
    "city_vector = model.infer_vector(jieba.cut(word1))\n",
    "similar_docs = model.dv.most_similar([city_vector], topn=10)\n",
    "print(\"與\", word1, \"相關的文件\")\n",
    "for doc_id, similarity in similar_docs:\n",
    "    print(\"文件索引值ID \", doc_id, \": 相似度\", similarity)\n",
    "    # print(\"文檔內容:\")\n",
    "    # print(' '.join(tagged_data[doc_id].words))\n",
    "    # .join(tagged_data[doc_id].words))\n",
    "t2 = time.time()\n",
    "print(\"time elapsed: \" + str(round(t2 - t1, 2)) + \" seconds\")"
   ]
  },
  {
   "cell_type": "code",
   "execution_count": null,
   "metadata": {
    "id": "MW9oYENviZDY"
   },
   "outputs": [],
   "source": []
  }
 ],
 "metadata": {
  "colab": {
   "provenance": []
  },
  "kernelspec": {
   "display_name": ".venv",
   "language": "python",
   "name": "python3"
  },
  "language_info": {
   "codemirror_mode": {
    "name": "ipython",
    "version": 3
   },
   "file_extension": ".py",
   "mimetype": "text/x-python",
   "name": "python",
   "nbconvert_exporter": "python",
   "pygments_lexer": "ipython3",
   "version": "3.11.11"
  }
 },
 "nbformat": 4,
 "nbformat_minor": 0
}
